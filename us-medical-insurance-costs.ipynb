{
 "cells": [
  {
   "cell_type": "markdown",
   "metadata": {},
   "source": [
    "# U.S. Medical Insurance Costs"
   ]
  },
  {
   "cell_type": "code",
   "execution_count": 90,
   "metadata": {},
   "outputs": [],
   "source": [
    "#It's the first activity without the codeacademy platform, using the knowledge that teachs us in online class. First import the csv library.\n",
    "import csv"
   ]
  },
  {
   "cell_type": "code",
   "execution_count": 91,
   "metadata": {},
   "outputs": [],
   "source": [
    "#then, after reading the csv file, knowing the headers i gonna pass the information to my studies variables.\n",
    "age = []\n",
    "sex = []\n",
    "bmi = []\n",
    "children = []\n",
    "smoker = []\n",
    "region = []\n",
    "charges = []\n",
    "\n",
    "with open(r\"C:\\Users\\END USER\\Documents\\Codeacademy\\pro\\python-portfolio-project-starter-files\\insurance.csv\") as insurance_temp:\n",
    "    age_insurance = csv.DictReader(insurance_temp)\n",
    "    for row in age_insurance:\n",
    "        age.append(row[\"age\"])\n",
    "        sex.append(row[\"sex\"])\n",
    "        bmi.append(row[\"bmi\"])\n",
    "        children.append(row[\"children\"])\n",
    "        smoker.append(row[\"smoker\"])\n",
    "        region.append(row[\"region\"])\n",
    "        charges.append(row[\"charges\"])"
   ]
  },
  {
   "cell_type": "code",
   "execution_count": 92,
   "metadata": {},
   "outputs": [],
   "source": [
    "#Now, i need make some variables for later calculate average in some columns. After that i gonna make calculates about how many persons lives in the differents regions, how many have children, how many smokes, etc.\n",
    "total_age = 0\n",
    "total_bmi = 0\n",
    "total_charges = 0\n",
    "\n",
    "for i in age:\n",
    "    total_age += int(i)\n",
    "for i in bmi:\n",
    "    total_bmi += float(i)\n",
    "for i in charges:\n",
    "    total_charges += float(i)\n",
    "\n",
    "average_age = round(total_age / len(age))\n",
    "average_bmi = round(total_bmi / len(bmi),2)\n",
    "average_charge = round(total_charges / len(charges),1)\n",
    "\n"
   ]
  },
  {
   "cell_type": "code",
   "execution_count": 93,
   "metadata": {},
   "outputs": [],
   "source": [
    "#There is not necessary do an average calculation for every columns, because some variables are booleans and categoricals (1,0 or regions). We need count hoy many are in every options.\n",
    "#1. Sex (female/male)\n",
    "females = 0\n",
    "males = 0\n",
    "for i in sex:\n",
    "    if i == \"female\":\n",
    "        females = females + 1\n",
    "    else:\n",
    "        males = males + 1\n"
   ]
  },
  {
   "cell_type": "code",
   "execution_count": 94,
   "metadata": {},
   "outputs": [],
   "source": [
    "#2 children (0 = no children, 1 = with children)\n",
    "no_children = 0\n",
    "yes_children = 0\n",
    "for i in children:\n",
    "    if i == \"0\":\n",
    "        no_children = no_children + 1\n",
    "    else:\n",
    "        yes_children = yes_children + 1"
   ]
  },
  {
   "cell_type": "code",
   "execution_count": 95,
   "metadata": {},
   "outputs": [],
   "source": [
    "# 3 counting the smokers (yes or not smoker)\n",
    "no_smoker = 0\n",
    "yes_smoker = 0\n",
    "for i in smoker:\n",
    "    if i == \"no\":\n",
    "        no_smoker = no_smoker + 1\n",
    "    else:\n",
    "        yes_smoker = yes_smoker + 1\n"
   ]
  },
  {
   "cell_type": "code",
   "execution_count": 96,
   "metadata": {},
   "outputs": [],
   "source": [
    "# 4.1 regions (we need to know how many regions are, which are and count them.)\n",
    "regions_list = []\n",
    "for i in region:\n",
    "    if i not in regions_list:\n",
    "        regions_list.append(i)\n",
    "regions_list.sort()\n",
    "\n",
    "# 4.2 Exist 4 regions (northwest, northeast, southwest and southeast), now it's time to count how many insurance users lives in that regions.\n",
    "northwest = 0\n",
    "northeast = 0\n",
    "southwest = 0\n",
    "southeast = 0\n",
    "for i in region:\n",
    "    if i == \"northeast\":\n",
    "        northeast = northeast + 1\n",
    "    elif i == \"northwest\":\n",
    "        northwest = northwest + 1\n",
    "    elif i == \"southwest\":\n",
    "        southwest = southwest + 1\n",
    "    else:\n",
    "        southeast = southeast + 1\n"
   ]
  },
  {
   "cell_type": "code",
   "execution_count": 97,
   "metadata": {},
   "outputs": [],
   "source": [
    "#Functions for calculate percentages and function\n",
    "females_perc = round(females / len(sex),2)*100\n",
    "males_perc = round(males / len(sex),2)*100\n",
    "def sex_percentage(males,females):\n",
    "    if females_perc > males_perc:\n",
    "        print(\"There are more women using insurance, than men. Difference: \" + str(females_perc - males_perc) + \"%.\")\n",
    "    else:\n",
    "        print(\"There are more men using insurance, than women. Difference: \" + str(males_perc - females_perc) + \"%.\")\n",
    "    "
   ]
  },
  {
   "cell_type": "code",
   "execution_count": 98,
   "metadata": {},
   "outputs": [],
   "source": [
    "#Childrens function and percentage\n",
    "yeschildren_perc = round(yes_children/len(children),1)*100\n",
    "nochildren_perc = round(no_children/len(children),2)*100\n",
    "def children_percentage (yes_children, no_children):\n",
    "    if yeschildren_perc > nochildren_perc:\n",
    "        print(\"There are more users with children than without them, a difference of \" + str(yeschildren_perc - nochildren_perc) + \"%.\")\n",
    "    else:\n",
    "        print(\"There are more users without children than with them, a difference of \" + str(nochildren_perc - yeschildren_perc) + \"%.\")"
   ]
  },
  {
   "cell_type": "code",
   "execution_count": 99,
   "metadata": {},
   "outputs": [],
   "source": [
    "yessmoker_perc = round(yes_smoker/len(smoker),2)*100\n",
    "nosmoker_perc = round(no_smoker/len(smoker),2)*100\n",
    "def smoker_percentage(yes_smoker,no_smoker):\n",
    "    if yessmoker_perc > nosmoker_perc:\n",
    "        print(\"The quantity of smokers is high in comparition with the no smokers. Difference: \" + str(yessmoker_perc - nosmoker_perc) + \"%.\")\n",
    "    else:\n",
    "        print(\"The quantity of no smokers is high in comparition with the smokers. Difference: \" + str(nosmoker_perc - yessmoker_perc) + \"%.\")\n"
   ]
  },
  {
   "cell_type": "code",
   "execution_count": 100,
   "metadata": {},
   "outputs": [],
   "source": [
    "region_perc_list = []\n",
    "region_perc_list.append(round(northeast/len(region),2)*100)\n",
    "region_perc_list.append(round(northwest/len(region),2)*100)\n",
    "region_perc_list.append(round(southeast/len(region),2)*100)\n",
    "region_perc_list.append(round(southwest/len(region),2)*100)\n",
    "region_zip = list(zip(regions_list,region_perc_list))\n"
   ]
  },
  {
   "cell_type": "code",
   "execution_count": 102,
   "metadata": {},
   "outputs": [
    {
     "name": "stdout",
     "output_type": "stream",
     "text": [
      "Analyzing the insurance file i found the insurance's average age is 39 the average for BMI is 30.66 and the annualy average cost is $13270.4.\n",
      "Studing about the insurance customers, the total of females are 662 and his percentage 49.0%. In case, the males are a total of 676 and represent the 51.0.\n",
      "There are more men using insurance, than women. Difference: 2.0%.\n",
      "This is the porcentual for each one the 4 regions. [('northeast', 24.0), ('northwest', 24.0), ('southeast', 27.0), ('southwest', 24.0)]\n",
      "The no smokers are 274 with a percentage of 80.0% and the smokers only 20.0%.\n",
      "The quantity of no smokers is high in comparition with the smokers. Difference: 60.0%.\n",
      "With children are 764 (60.0%). And the total without childrens 574 (43.0%).\n",
      "There are more users with children than without them, a difference of 17.0%.\n"
     ]
    }
   ],
   "source": [
    "#Prints station.\n",
    "print(\"Analyzing the insurance file i found the insurance's average age is \" + str(average_age) + \" the average for BMI is \" + str(average_bmi) + \" and the annualy average cost is $\" + str(average_charge) + \".\")\n",
    "print(\"Studing about the insurance customers, the total of females are \" + str(females) + \" and his percentage \" + str(females_perc) + \"%. In case, the males are a total of \" + str(males) + \" and represent the \" + str(males_perc) + \".\")\n",
    "sex_percentage(males,females)\n",
    "print(\"This is the porcentual for each one the \" + str(len(regions_list)) + \" regions. \" + str(region_zip))\n",
    "print(\"The no smokers are \" +  str(yes_smoker)  + \" with a percentage of \" + str(nosmoker_perc) + \"% and the smokers only \" + str(yessmoker_perc) + \"%.\")\n",
    "smoker_percentage(yes_smoker,no_smoker)\n",
    "print(\"With children are \" + str(yes_children) + \" (\" + str(yeschildren_perc) + \"%). And the total without childrens \" + str(no_children) + \" (\" + str(nochildren_perc) + \"%).\")\n",
    "children_percentage (yes_children, no_children)"
   ]
  }
 ],
 "metadata": {
  "kernelspec": {
   "display_name": "Python 3",
   "language": "python",
   "name": "python3"
  },
  "language_info": {
   "codemirror_mode": {
    "name": "ipython",
    "version": 3
   },
   "file_extension": ".py",
   "mimetype": "text/x-python",
   "name": "python",
   "nbconvert_exporter": "python",
   "pygments_lexer": "ipython3",
   "version": "3.11.2"
  },
  "vscode": {
   "interpreter": {
    "hash": "d012744f69b54f2964a08f2ed1a74c6b3afb3a7d48a87ff01b7e7a8f6123940b"
   }
  }
 },
 "nbformat": 4,
 "nbformat_minor": 4
}
